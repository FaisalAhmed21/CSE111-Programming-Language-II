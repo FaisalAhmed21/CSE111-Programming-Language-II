{
  "cells": [
    {
      "cell_type": "code",
      "execution_count": null,
      "id": "90b8d83f",
      "metadata": {
        "id": "90b8d83f"
      },
      "outputs": [],
      "source": [
        "#Name: Faisal Ahmed\n",
        "#ID: 21301186\n",
        "#Section: 02"
      ]
    },
    {
      "cell_type": "code",
      "execution_count": 3,
      "id": "203be2d6",
      "metadata": {
        "colab": {
          "base_uri": "https://localhost:8080/"
        },
        "id": "203be2d6",
        "outputId": "05923c1d-a928-4b37-e4c9-b99c5c1e8fcb"
      },
      "outputs": [
        {
          "output_type": "stream",
          "name": "stdout",
          "text": [
            "5\n",
            "2\n",
            "0.5\n"
          ]
        }
      ],
      "source": [
        "#Task-1\n",
        "def function_name(value1,value2):\n",
        "    try:\n",
        "        if int(value2)==0:\n",
        "            raise RuntimeError\n",
        "        divisor = int(value1) / int(value2)\n",
        "        output = int(value1) // int(value2)\n",
        "        if divisor == 0:\n",
        "            print(output)\n",
        "        else:\n",
        "            print(divisor - output)\n",
        "    except RuntimeError:\n",
        "        print(\"0\")\n",
        "value1 = int(input())\n",
        "value2 = int(input())\n",
        "function_name(value1,value2)"
      ]
    },
    {
      "cell_type": "code",
      "execution_count": 4,
      "id": "707b0bbc",
      "metadata": {
        "colab": {
          "base_uri": "https://localhost:8080/"
        },
        "id": "707b0bbc",
        "outputId": "9885437b-65fc-4bef-8375-42881dd6030a"
      },
      "outputs": [
        {
          "output_type": "stream",
          "name": "stdout",
          "text": [
            "175\n",
            "96\n",
            "Score is 31.35.\n",
            "Score is 31.35 .You are Obese\n"
          ]
        }
      ],
      "source": [
        "#Task-2\n",
        "def bmi(height,weight):\n",
        "    return round(int(weight)/((int(height)*10**-2)**2),2)\n",
        "h_input = int(input())\n",
        "w_input = int(input())\n",
        "score = bmi(h_input,w_input)\n",
        "print(f\"Score is {score}.\")\n",
        "if score<18.5:\n",
        "    print(\"Score is\",score,\".You are Underweight\")\n",
        "elif score >= 18.5 and score <= 24.9:\n",
        "    print(\"Score is\",score,\".You are Normal\")\n",
        "elif score >= 25 and score <= 30:\n",
        "    print(\"Score is\",score,\".You are Overweight\")\n",
        "elif score > 30:\n",
        "    print(\"Score is\",score,\".You are Obese\")"
      ]
    },
    {
      "cell_type": "code",
      "execution_count": 7,
      "id": "98357350",
      "metadata": {
        "colab": {
          "base_uri": "https://localhost:8080/"
        },
        "id": "98357350",
        "outputId": "ad875afe-44b4-4b84-e8c5-10de1edca2d3"
      },
      "outputs": [
        {
          "output_type": "stream",
          "name": "stdout",
          "text": [
            "0,10,2\n",
            "20\n"
          ]
        }
      ],
      "source": [
        "#Task-3\n",
        "def function_name(minimum,maximum,divisor):\n",
        "    minimum = int(minimum)\n",
        "    maximum = int(maximum)\n",
        "    divisor = int(divisor)\n",
        "    output = 0\n",
        "    for i in range(minimum,maximum):\n",
        "        if i % divisor == 0:\n",
        "            output += i\n",
        "    return output\n",
        "value = input().split(\",\")\n",
        "print(function_name(value[0],value[1],value[2]))"
      ]
    },
    {
      "cell_type": "code",
      "execution_count": 19,
      "id": "1362c072",
      "metadata": {
        "colab": {
          "base_uri": "https://localhost:8080/"
        },
        "id": "1362c072",
        "outputId": "907dc149-3a23-4c20-aff2-941d8b2a5207"
      },
      "outputs": [
        {
          "output_type": "stream",
          "name": "stdout",
          "text": [
            "Beef Burger, Dhanmondi\n",
            "243.6\n"
          ]
        }
      ],
      "source": [
        "def function_name(meal, place=\"Mohakhali\"):\n",
        "    total_price = 0\n",
        "    if meal == \"BBQ Chicken Cheese Burger\":\n",
        "        total_price = total_price + 250\n",
        "    if meal == \"Beef Burger\":\n",
        "        total_price = total_price + 170\n",
        "    if meal == \"Naga Drums\":\n",
        "        total_price = total_price + 200\n",
        "    total_price = total_price + (total_price * (8 / 100))\n",
        "    if place == \"Mohakhali\" or place == \"\":\n",
        "        total_price = total_price + 40\n",
        "    else:\n",
        "        total_price = total_price + 60\n",
        "    return total_price\n",
        "\n",
        "\n",
        "u_input = input().strip().split(\",\")\n",
        "\n",
        "if len(u_input) == 1:\n",
        "    print(function_name(u_input[0].strip()))\n",
        "else:\n",
        "    print(function_name(u_input[0].strip(), u_input[1].strip()))\n"
      ]
    },
    {
      "cell_type": "code",
      "execution_count": 27,
      "id": "1782fb4f",
      "metadata": {
        "colab": {
          "base_uri": "https://localhost:8080/"
        },
        "id": "1782fb4f",
        "outputId": "f7f3b609-17e4-442c-c172-4592b158ea6d"
      },
      "outputs": [
        {
          "output_type": "stream",
          "name": "stdout",
          "text": [
            "'alice@kaaj.com', 'sheba.xyz', 'kaaj.com'\n",
            "Changed: alice@sheba.xyz\n"
          ]
        }
      ],
      "source": [
        "#Task-5\n",
        "def changed_look(mail,new_domain,old_domain=\"kaaj.com\"):\n",
        "    temp = mail.split(\"@\")\n",
        "    if(temp[-1] == old_domain):\n",
        "        print(\"Changed:\",temp[0]+\"@sheba.xyz\")\n",
        "    elif(temp[-1] == new_domain):\n",
        "        print(\"Unchanged:\",mail)\n",
        "mail = input()\n",
        "changed_look('alice@kaaj.com', 'sheba.xyz', 'kaaj.com')"
      ]
    },
    {
      "cell_type": "code",
      "execution_count": 24,
      "id": "d0434266",
      "metadata": {
        "colab": {
          "base_uri": "https://localhost:8080/"
        },
        "id": "d0434266",
        "outputId": "57ce46fb-7813-423a-858c-7c738fc138a2"
      },
      "outputs": [
        {
          "output_type": "stream",
          "name": "stdout",
          "text": [
            "Steve Jobs\n",
            "Vowels: e e o  . Total number of vowels: 3\n"
          ]
        }
      ],
      "source": [
        "#Task-6\n",
        "def function_name(string):\n",
        "    vowels = \"aeiouAEIOU\"\n",
        "    vowel_check = \"\"\n",
        "    vowel_count = 0\n",
        "    for i in string:\n",
        "        if i in vowels:\n",
        "            vowel_check += i + \" \"\n",
        "            vowel_count += 1\n",
        "    print(\"Vowels:\",vowel_check,\". Total number of vowels:\",vowel_count)\n",
        "string = input()[1:-1]\n",
        "function_name(string)\n",
        "\n",
        "\n",
        ""
      ]
    },
    {
      "cell_type": "code",
      "execution_count": 25,
      "id": "c2a0a5af",
      "metadata": {
        "colab": {
          "base_uri": "https://localhost:8080/"
        },
        "id": "c2a0a5af",
        "outputId": "167b61a7-825a-41c4-a3f8-0a7c4c1278a5"
      },
      "outputs": [
        {
          "output_type": "stream",
          "name": "stdout",
          "text": [
            "nurses run\n",
            "Palindrome\n"
          ]
        }
      ],
      "source": [
        "#Task-7\n",
        "def function_name(string):\n",
        "    st = string.split(\" \")\n",
        "    new_string = \"\"\n",
        "    for i in st:\n",
        "        new_string += i\n",
        "    for i in new_string:\n",
        "        if new_string == new_string[len(new_string)+1::-1]:\n",
        "            output = \"Palindrome\"\n",
        "        else:\n",
        "            output = \"Not a palindrome\"\n",
        "    print(output)\n",
        "string = input()\n",
        "function_name(string)"
      ]
    },
    {
      "cell_type": "code",
      "execution_count": 26,
      "id": "67d18774",
      "metadata": {
        "colab": {
          "base_uri": "https://localhost:8080/"
        },
        "id": "67d18774",
        "outputId": "08809d6a-fa05-4b6e-9a92-6fefc9020e9a"
      },
      "outputs": [
        {
          "output_type": "stream",
          "name": "stdout",
          "text": [
            "4320\n",
            "11 years, 10 months and 5 days\n"
          ]
        }
      ],
      "source": [
        "#Task-8\n",
        "def function_name(value):\n",
        "    years = value//365\n",
        "    years1 = value%365\n",
        "    months = years1//30\n",
        "    days = years1%30\n",
        "    print(years,\"years,\",months,\"months and\",days,\"days\")\n",
        "value = int(input())\n",
        "function_name(value)"
      ]
    },
    {
      "cell_type": "code",
      "execution_count": null,
      "id": "5f568ad7",
      "metadata": {
        "id": "5f568ad7",
        "outputId": "6fb5eaf1-3c51-434c-c05f-03fa35247918"
      },
      "outputs": [
        {
          "name": "stdout",
          "output_type": "stream",
          "text": [
            "('my favourite animal is a dog. a dog has sharp teeth so that it can eat flesh very easily.  do you know my pet dog’s name? i love my pet very much.')\n"
          ]
        },
        {
          "data": {
            "text/plain": [
              "'My favourite animal is a dog. A dog has sharp teeth so that it can eat flesh very easily. Do you know my pet dog’s name? I love my pet very much. '"
            ]
          },
          "execution_count": 1,
          "metadata": {},
          "output_type": "execute_result"
        }
      ],
      "source": [
        "#Task-9\n",
        "def capitalize(string):\n",
        "    return ( '. '.join(map(lambda s: s.strip().capitalize(), string.split('.')))).replace(' i ',' I ')\n",
        "string = input()[2:-2]\n",
        "capitalize(string)"
      ]
    }
  ],
  "metadata": {
    "kernelspec": {
      "display_name": "Python 3 (ipykernel)",
      "language": "python",
      "name": "python3"
    },
    "language_info": {
      "codemirror_mode": {
        "name": "ipython",
        "version": 3
      },
      "file_extension": ".py",
      "mimetype": "text/x-python",
      "name": "python",
      "nbconvert_exporter": "python",
      "pygments_lexer": "ipython3",
      "version": "3.10.0"
    },
    "colab": {
      "provenance": []
    }
  },
  "nbformat": 4,
  "nbformat_minor": 5
}
