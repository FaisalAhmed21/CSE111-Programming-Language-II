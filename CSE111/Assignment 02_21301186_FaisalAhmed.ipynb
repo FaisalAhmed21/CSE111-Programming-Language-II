{
 "cells": [
  {
   "cell_type": "code",
   "execution_count": 1,
   "id": "90b8d83f",
   "metadata": {},
   "outputs": [],
   "source": [
    "#Name: Faisal Ahmed\n",
    "#ID: 21301186\n",
    "#Section: 02"
   ]
  },
  {
   "cell_type": "code",
   "execution_count": null,
   "id": "203be2d6",
   "metadata": {},
   "outputs": [],
   "source": [
    "#Task-1\n",
    "def function_name(value1,value2):\n",
    "    try:\n",
    "        if int(value2)==0:\n",
    "            raise RuntimeError\n",
    "        divisor = int(value1) / int(value2)\n",
    "        output = int(value1) // int(value2)\n",
    "        if divisor == 0:\n",
    "            print(output)\n",
    "        else:\n",
    "            print(divisor - output)\n",
    "    except RuntimeError:\n",
    "        print(\"0\")\n",
    "value1 = int(input())\n",
    "value2 = int(input())\n",
    "function_name(value1,value2)"
   ]
  },
  {
   "cell_type": "code",
   "execution_count": null,
   "id": "707b0bbc",
   "metadata": {},
   "outputs": [],
   "source": [
    "#Task-2\n",
    "def bmi(height,weight):\n",
    "    return round(int(weight)/((int(height)*10**-2)**2),2)\n",
    "h_input = int(input())\n",
    "w_input = int(input())\n",
    "score = bmi(h_input,w_input)\n",
    "print(f\"Score is {score}.\")\n",
    "if score<18.5:\n",
    "    print(\"Score is\",score,\".You are Underweight\")\n",
    "elif score >= 18.5 and score <= 24.9:\n",
    "    print(\"Score is\",score,\".You are Normal\")\n",
    "elif score >= 25 and score <= 30:\n",
    "    print(\"Score is\",score,\".You are Overweight\")\n",
    "elif score > 30:\n",
    "    print(\"Score is\",score,\".You are Obese\")"
   ]
  },
  {
   "cell_type": "code",
   "execution_count": null,
   "id": "98357350",
   "metadata": {},
   "outputs": [],
   "source": [
    "#Task-3\n",
    "def function_name(minimum,maximum,divisor):\n",
    "    minimum = int(minimum)\n",
    "    maximum = int(maximum)\n",
    "    divisor = int(divisor)\n",
    "    output = 0\n",
    "    for i in range(minimum,maximum):\n",
    "        if i % divisor == 0:\n",
    "            output += i\n",
    "    return output\n",
    "value = input().split(\",\")\n",
    "print(function_name(value[0],value[1],value[2]))"
   ]
  },
  {
   "cell_type": "code",
   "execution_count": 2,
   "id": "1362c072",
   "metadata": {},
   "outputs": [
    {
     "name": "stdout",
     "output_type": "stream",
     "text": [
      "(‘Beef Burger’)\n",
      "223.6\n"
     ]
    }
   ],
   "source": [
    "#Task-4\n",
    "def function_name(meal,place=\"Mohakhali\"):\n",
    "    total_price = 0\n",
    "    if meal == \"BBQ Chicken Cheese Burger\":\n",
    "        total_price = total_price + 250\n",
    "    if meal == \"Beef Burger\":\n",
    "        total_price = total_price + 170\n",
    "    if meal == \"Naga Drums\":\n",
    "        total_price = total_price + 200\n",
    "    total_price = total_price + (total_price*(8/100))\n",
    "    if place == \"Mohakhali\" or place == \"\":\n",
    "        total_price = total_price + 40\n",
    "    else:\n",
    "        total_price = total_price + 60\n",
    "    return total_price\n",
    "u_input = input()[1:-1].split(\",\")\n",
    "if len(u_input) == 1:\n",
    "    print(function_name(u_input[0][1:-1]))\n",
    "else:\n",
    "    print(function_name(u_input[0][1:-1],u_input[1][1:-1]))"
   ]
  },
  {
   "cell_type": "code",
   "execution_count": null,
   "id": "1782fb4f",
   "metadata": {},
   "outputs": [],
   "source": [
    "#Task-5\n",
    "def changed_look(mail,new_domain,old_domain=\"kaaj.com\"):\n",
    "    temp = mail.split(\"@\")\n",
    "    if(temp[-1] == old_domain):\n",
    "        print(\"Changed:\",temp[0]+\"@sheba.xyz\")\n",
    "    elif(temp[-1] == new_domain):\n",
    "        print(\"Unchanged:\",mail)\n",
    "mail = input()\n",
    "changed_look('alice@kaaj.com', 'sheba.xyz', 'kaaj.com')"
   ]
  },
  {
   "cell_type": "code",
   "execution_count": null,
   "id": "d0434266",
   "metadata": {},
   "outputs": [],
   "source": [
    "#Task-6\n",
    "def function_name(string):\n",
    "    vowels = \"aeiouAEIOU\"\n",
    "    vowel_check = \"\"\n",
    "    vowel_count = 0\n",
    "    for i in string:\n",
    "        if i in vowels:\n",
    "            vowel_check += i\n",
    "            vowel_count += 1\n",
    "    print(\"Vowels:\",vowel_check,\". Total number of vowels:\",vowel_count)\n",
    "string = input()[1:-1]\n",
    "function_name(string)\n",
    "            \n",
    "            \n",
    "        "
   ]
  },
  {
   "cell_type": "code",
   "execution_count": null,
   "id": "c2a0a5af",
   "metadata": {},
   "outputs": [],
   "source": [
    "#Task-7\n",
    "def function_name(string):\n",
    "    st = string.split(\" \")\n",
    "    new_string = \"\"\n",
    "    for i in st:\n",
    "        new_string += i\n",
    "    for i in new_string:\n",
    "        if new_string == new_string[len(new_string)+1::-1]:\n",
    "            output = \"Palindrome\"\n",
    "        else:\n",
    "            output = \"Not a palindrome\"\n",
    "    print(output)\n",
    "string = input()\n",
    "function_name(string)"
   ]
  },
  {
   "cell_type": "code",
   "execution_count": null,
   "id": "67d18774",
   "metadata": {},
   "outputs": [],
   "source": [
    "#Task-8\n",
    "def function_name(value):\n",
    "    years = value//365\n",
    "    years1 = value%365\n",
    "    months = years1//30\n",
    "    days = years1%30\n",
    "    print(years,\"years,\",months,\"months and\",days,\"days\")\n",
    "value = int(input())\n",
    "function_name(value)"
   ]
  },
  {
   "cell_type": "code",
   "execution_count": 1,
   "id": "5f568ad7",
   "metadata": {},
   "outputs": [
    {
     "name": "stdout",
     "output_type": "stream",
     "text": [
      "('my favourite animal is a dog. a dog has sharp teeth so that it can eat flesh very easily.  do you know my pet dog’s name? i love my pet very much.')\n"
     ]
    },
    {
     "data": {
      "text/plain": [
       "'My favourite animal is a dog. A dog has sharp teeth so that it can eat flesh very easily. Do you know my pet dog’s name? I love my pet very much. '"
      ]
     },
     "execution_count": 1,
     "metadata": {},
     "output_type": "execute_result"
    }
   ],
   "source": [
    "#Task-9\n",
    "def capitalize(string):\n",
    "    return ( '. '.join(map(lambda s: s.strip().capitalize(), string.split('.')))).replace(' i ',' I ')\n",
    "string = input()[2:-2]\n",
    "capitalize(string)"
   ]
  }
 ],
 "metadata": {
  "kernelspec": {
   "display_name": "Python 3 (ipykernel)",
   "language": "python",
   "name": "python3"
  },
  "language_info": {
   "codemirror_mode": {
    "name": "ipython",
    "version": 3
   },
   "file_extension": ".py",
   "mimetype": "text/x-python",
   "name": "python",
   "nbconvert_exporter": "python",
   "pygments_lexer": "ipython3",
   "version": "3.10.0"
  }
 },
 "nbformat": 4,
 "nbformat_minor": 5
}
