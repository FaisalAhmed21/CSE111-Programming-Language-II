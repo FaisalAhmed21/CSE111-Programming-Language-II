{
 "cells": [
  {
   "cell_type": "code",
   "execution_count": null,
   "id": "43fb3381",
   "metadata": {},
   "outputs": [],
   "source": [
    "#Name: Faisal Ahmed\n",
    "#ID: 21301186\n",
    "#Section: 02"
   ]
  },
  {
   "cell_type": "code",
   "execution_count": 1,
   "id": "c7d5f0a4",
   "metadata": {},
   "outputs": [
    {
     "name": "stdout",
     "output_type": "stream",
     "text": [
      "Quiz 1 (out of 10): 4\n",
      "Quiz 2 (out of 10): 5\n",
      "Lab (out of 30): 20\n",
      "Mid (out of 20): 12\n",
      "Final (out of 30): 21\n",
      "Total marks: 62\n"
     ]
    }
   ],
   "source": [
    "#Task-1\n",
    "class Marks:\n",
    "    def __init__(self,mark):\n",
    "        self.mark = mark\n",
    "    def __add__(self,other):\n",
    "        total = Marks(self.mark + other.mark)\n",
    "        return total\n",
    "Q1 = Marks(int(input(\"Quiz 1 (out of 10): \")))\n",
    "Q2 = Marks(int(input(\"Quiz 2 (out of 10): \")))\n",
    "Lab = Marks(int(input(\"Lab (out of 30): \")))\n",
    "Mid = Marks(int(input(\"Mid (out of 20): \")))\n",
    "Final = Marks(int(input(\"Final (out of 30): \")))\n",
    "total = Q1 + Q2 + Lab + Mid + Final\n",
    "print(\"Total marks: {}\".format(total.mark))"
   ]
  },
  {
   "cell_type": "code",
   "execution_count": 2,
   "id": "1d924163",
   "metadata": {},
   "outputs": [
    {
     "name": "stdout",
     "output_type": "stream",
     "text": [
      "====================================\n",
      "Name: Saad Abdullah\n",
      "Department: CSE\n",
      "List of courses\n",
      "CSE 110 Programming Language I\n",
      "CSE 111 Programming Language-II\n",
      "====================================\n",
      "====================================\n",
      "Name: Mumit Khan\n",
      "Department: CSE\n",
      "List of courses\n",
      "CSE 220 Data Structures\n",
      "CSE 221 Algorithms\n",
      "CCSE 230 Discrete Mathematics\n",
      "====================================\n",
      "====================================\n",
      "Name: Sadia Kazi\n",
      "Department: CSE\n",
      "List of courses\n",
      "CSE 310 Object Oriented Programming\n",
      "CSE 320 Data Communications\n",
      "CSE 340 Computer Architecture\n",
      "====================================\n"
     ]
    }
   ],
   "source": [
    "#Task-2\n",
    "class Teacher:\n",
    "    def __init__(self,name,dept):\n",
    "        self.__name = name\n",
    "        self.__dept = dept\n",
    "        self.__listt = []\n",
    "    def addCourse(self,other):\n",
    "        self.__listt.append(other.name_of_course)\n",
    "    def printDetail(self):\n",
    "        print(\"====================================\")\n",
    "        print(f\"Name: {self.__name}\")\n",
    "        print(f\"Department: {self.__dept}\")\n",
    "        print(\"List of courses\")\n",
    "        for courses in self.__listt:\n",
    "            print(courses)\n",
    "        print(\"====================================\")\n",
    "class Course:\n",
    "    def __init__(self,name_of_course):\n",
    "        self.name_of_course = name_of_course\n",
    "        \n",
    "t1 = Teacher(\"Saad Abdullah\", \"CSE\")\n",
    "t2 = Teacher(\"Mumit Khan\", \"CSE\")\n",
    "t3 = Teacher(\"Sadia Kazi\", \"CSE\") \n",
    "c1 = Course(\"CSE 110 Programming Language I\") \n",
    "c2 = Course(\"CSE 111 Programming Language-II\") \n",
    "c3 = Course(\"CSE 220 Data Structures\") \n",
    "c4 = Course(\"CSE 221 Algorithms\") \n",
    "c5 = Course(\"CCSE 230 Discrete Mathematics\") \n",
    "c6 = Course(\"CSE 310 Object Oriented Programming\") \n",
    "c7 = Course(\"CSE 320 Data Communications\") \n",
    "c8 = Course(\"CSE 340 Computer Architecture\")\n",
    "t1.addCourse(c1)\n",
    "t1.addCourse(c2)\n",
    "t2.addCourse(c3)\n",
    "t2.addCourse(c4)\n",
    "t2.addCourse(c5)\n",
    "t3.addCourse(c6)\n",
    "t3.addCourse(c7)\n",
    "t3.addCourse(c8)\n",
    "t1.printDetail()\n",
    "t2.printDetail()\n",
    "t3.printDetail()"
   ]
  },
  {
   "cell_type": "code",
   "execution_count": 17,
   "id": "a2719bc6",
   "metadata": {},
   "outputs": [
    {
     "name": "stdout",
     "output_type": "stream",
     "text": [
      "====================================\n",
      "Team: Bangladesh\n",
      "List of Players:\n",
      "['Mashrafi', 'Tamim']\n",
      "====================================\n",
      "====================================\n",
      "Team: Australia\n",
      "List of Players:\n",
      "['Ponting', 'Lee']\n",
      "====================================\n"
     ]
    }
   ],
   "source": [
    "#Task-3\n",
    "class Team:\n",
    "    def __init__(self,country = None):\n",
    "        self.__country = country\n",
    "        self.__listt = []\n",
    "    def setName(self,country_name):\n",
    "        self.__country = country_name\n",
    "    def addPlayer(self,player_name):\n",
    "        self.__listt.append(player_name.name)\n",
    "    def printDetail(self):\n",
    "        print(\"====================================\")\n",
    "        print(f\"Team: {self.__country}\")\n",
    "        print(\"List of Players:\")\n",
    "        print(self.__listt)\n",
    "        print(\"====================================\")\n",
    "              \n",
    "class Player:\n",
    "    def __init__(self,name):\n",
    "        self.name = name\n",
    "    \n",
    "b = Team()\n",
    "b.setName('Bangladesh')\n",
    "mashrafi = Player(\"Mashrafi\")\n",
    "b.addPlayer(mashrafi)\n",
    "tamim = Player(\"Tamim\")\n",
    "b.addPlayer(tamim)\n",
    "b.printDetail()\n",
    "a = Team(\"Australia\")\n",
    "ponting = Player(\"Ponting\")\n",
    "a.addPlayer(ponting)\n",
    "lee = Player(\"Lee\")\n",
    "a.addPlayer(lee)\n",
    "a.printDetail()\n"
   ]
  },
  {
   "cell_type": "code",
   "execution_count": 2,
   "id": "bf813bdc",
   "metadata": {},
   "outputs": [
    {
     "name": "stdout",
     "output_type": "stream",
     "text": [
      "First Color: yellow\n",
      "Second Color: red\n",
      "Color formed: Orange\n"
     ]
    }
   ],
   "source": [
    "#Task-4\n",
    "class Color:\n",
    "    def __init__(self,color):\n",
    "        self.clr = color\n",
    "    def __add__(self,other):\n",
    "        clr = self.clr + other.clr\n",
    "        if clr == \"redyellow\" or clr == \"yellowred\":\n",
    "            return Color(\"Orange\")\n",
    "        elif clr == \"redblue\" or clr == \"bluered\":\n",
    "            return Color(\"Violet\")\n",
    "        elif clr == \"yellowblue\" or clr == \"blueyellow\":\n",
    "            return Color(\"Green\")\n",
    "        \n",
    "C1 = Color(input(\"First Color: \").lower())\n",
    "C2 = Color(input(\"Second Color: \").lower())\n",
    "C3 = C1 + C2\n",
    "print(\"Color formed:\", C3.clr)\n"
   ]
  },
  {
   "cell_type": "code",
   "execution_count": 15,
   "id": "d930de11",
   "metadata": {},
   "outputs": [
    {
     "name": "stdout",
     "output_type": "stream",
     "text": [
      "First circle radius: 4\n",
      "First circle area: 50.26548245743669\n",
      "Second circle radius: 5\n",
      "Second circle area: 78.53981633974483\n",
      "Third circle radius: 9\n",
      "Third circle area: 254.46900494077323\n"
     ]
    }
   ],
   "source": [
    "#Task-5\n",
    "import math\n",
    "class Circle:\n",
    "    def __init__(self,radius):\n",
    "        self.__radius = radius\n",
    "    def getRadius(self):\n",
    "        return self.__radius\n",
    "    def setRadius(self,rad):\n",
    "        self.__radius = rad\n",
    "    def area(self):\n",
    "        return math.pi*self.__radius**2\n",
    "    def __add__(self,other):\n",
    "        return Circle(self.getRadius() + other.getRadius())\n",
    "c1 = Circle(4)\n",
    "print(\"First circle radius:\" , c1.getRadius())\n",
    "print(\"First circle area:\" ,c1.area())\n",
    "c2 = Circle(5)\n",
    "print(\"Second circle radius:\" ,c2.getRadius())\n",
    "print(\"Second circle area:\" ,c2.area())\n",
    "c3 = c1 + c2 \n",
    "print(\"Third circle radius:\" ,c3.getRadius())\n",
    "print(\"Third circle area:\" ,c3.area())"
   ]
  },
  {
   "cell_type": "code",
   "execution_count": 6,
   "id": "168d5158",
   "metadata": {},
   "outputs": [
    {
     "name": "stdout",
     "output_type": "stream",
     "text": [
      "First Triangle Base: 10\n",
      "First Triangle Height: 5\n",
      "First Triangle area: 25.0\n",
      "Second Triangle Base: 5\n",
      "Second Triangle Height: 3\n",
      "Second Triangle area: 7.5\n",
      "Third Triangle Base: 5\n",
      "Third Triangle Height: 2\n",
      "Third Triangle area: 5.0\n"
     ]
    }
   ],
   "source": [
    "#Task-6\n",
    "class Triangle:\n",
    "    def __init__(self,base_val,height_val):\n",
    "        self.__base = base_val\n",
    "        self.__height = height_val\n",
    "    def getBase(self):\n",
    "        return self.__base\n",
    "    def getHeight(self):\n",
    "        return self.__height\n",
    "    def setBase(self,base):\n",
    "        self.__base = base\n",
    "    def setHeight(self,height):\n",
    "        self.__height = height\n",
    "    def area(self):\n",
    "        return 0.5 * self.__base * self.__height\n",
    "    def __sub__(self,other):\n",
    "        return Triangle(self.__base - other.__base , self.__height - other.__height)\n",
    "t1 = Triangle(10, 5)\n",
    "print(\"First Triangle Base:\" , t1.getBase())\n",
    "print(\"First Triangle Height:\" , t1.getHeight())\n",
    "print(\"First Triangle area:\" ,t1.area())\n",
    "t2 = Triangle(5, 3)\n",
    "print(\"Second Triangle Base:\" , t2.getBase())\n",
    "print(\"Second Triangle Height:\" , t2.getHeight())\n",
    "print(\"Second Triangle area:\" ,t2.area())\n",
    "t3 = t1 - t2 \n",
    "print(\"Third Triangle Base:\" , t3.getBase())\n",
    "print(\"Third Triangle Height:\" , t3.getHeight())\n",
    "print(\"Third Triangle area:\" ,t3.area())"
   ]
  },
  {
   "cell_type": "code",
   "execution_count": 6,
   "id": "1ad23b67",
   "metadata": {},
   "outputs": [
    {
     "name": "stdout",
     "output_type": "stream",
     "text": [
      "Doll: Tweety\n",
      "Total Price: 2500 taka\n",
      "Thank you!\n",
      "=========================\n",
      "Doll: Daffy Duck\n",
      "Total Price: 1800 taka\n",
      "Thank you!\n",
      "=========================\n",
      "Doll: Bugs Bunny\n",
      "Total Price: 3000 taka\n",
      "Congratulations! You get the Tweety as a gift!\n",
      "=========================\n",
      "Doll: Porky Pig\n",
      "Total Price: 1500 taka\n",
      "Thank you!\n",
      "=========================\n",
      "Dolls: Daffy Duck Bugs Bunny\n",
      "Total Price: 4800 taka\n",
      "Congratulations! You get the Tweety as a gift!\n"
     ]
    }
   ],
   "source": [
    "#Task-7\n",
    "class Dolls:\n",
    "    def __init__(self,doll_name,doll_price):\n",
    "        self.doll_name = doll_name\n",
    "        self.doll_price = doll_price\n",
    "    def detail(self):\n",
    "        if type(self.doll_name) == str:\n",
    "            return f\"Doll: {self.doll_name}\\nTotal Price: {self.doll_price} taka\"\n",
    "        else:\n",
    "            return f\"Dolls: {' '.join(self.doll_name)}\\nTotal Price: {self.doll_price} taka\"\n",
    "    def __gt__(self,other):\n",
    "        if self.doll_price > other.doll_price:\n",
    "            return True\n",
    "        else:\n",
    "            return False\n",
    "    def __add__(self,other):\n",
    "        name = [self.doll_name] + [other.doll_name]\n",
    "        total_doll_price = self.doll_price + other.doll_price\n",
    "        return Dolls(name, total_doll_price)\n",
    "\n",
    "obj_1 = Dolls(\"Tweety\", 2500)\n",
    "print(obj_1.detail())\n",
    "if obj_1 > obj_1:\n",
    "    print(\"Congratulations! You get the Tweety as a gift!\")\n",
    "else:\n",
    "     print(\"Thank you!\")\n",
    "print(\"=========================\")\n",
    "obj_2 = Dolls(\"Daffy Duck\", 1800) \n",
    "print(obj_2.detail())\n",
    "if obj_2 > obj_1:\n",
    "    print(\"Congratulations! You get the Tweety as a gift!\")\n",
    "else:\n",
    "    print(\"Thank you!\")\n",
    "print(\"=========================\")\n",
    "obj_3 = Dolls(\"Bugs Bunny\", 3000)\n",
    "print(obj_3.detail())\n",
    "if obj_3 > obj_1:\n",
    "    print(\"Congratulations! You get the Tweety as a gift!\")\n",
    "else:\n",
    "    print(\"Thank you!\")\n",
    "print(\"=========================\")\n",
    "obj_4 = Dolls(\"Porky Pig\", 1500)\n",
    "print(obj_4.detail())\n",
    "if obj_4 > obj_1:\n",
    "    print(\"Congratulations! You get the Tweety as a gift!\")\n",
    "else:\n",
    "    print(\"Thank you!\")\n",
    "print(\"=========================\")\n",
    "obj_5 = obj_2 + obj_3\n",
    "print(obj_5.detail())\n",
    "if obj_5 > obj_1:\n",
    "    print(\"Congratulations! You get the Tweety as a gift!\")\n",
    "else:\n",
    "    print(\"Thank you!\")"
   ]
  },
  {
   "cell_type": "code",
   "execution_count": 4,
   "id": "c633c056",
   "metadata": {},
   "outputs": [
    {
     "name": "stdout",
     "output_type": "stream",
     "text": [
      "0\n",
      "0\n",
      "0\n",
      "0\n",
      "(0, 0)\n",
      "(0, 0)\n",
      "The calculated coordinates are the same.\n"
     ]
    }
   ],
   "source": [
    "#Task-8\n",
    "class Coordinates:\n",
    "    def __init__(self,num1,num2):\n",
    "        self.num1 = num1\n",
    "        self.num2 = num2\n",
    "    def __sub__(self,other):\n",
    "        return Coordinates(self.num1 - other.num1 , self.num2 - other.num2)\n",
    "    def __mul__(self,other):\n",
    "        return Coordinates(self.num1 * other.num1 , self.num2 * other.num2)\n",
    "    def __eq__(self,other):\n",
    "        if self.num1 == other.num1 and self.num2 == other.num2:\n",
    "            return \"The calculated coordinates are the same.\"\n",
    "        else:\n",
    "            return \"The calculated coordinates are NOT the same.\"\n",
    "    def detail(self):\n",
    "        return (self.num1 , self.num2)\n",
    "p1 = Coordinates(int(input()),int(input()))\n",
    "p2 = Coordinates(int(input()),int(input()))\n",
    "p4 = p1 - p2\n",
    "print(p4.detail())\n",
    "p5 = p1 * p2\n",
    "print(p5.detail())\n",
    "point_check = (p4 == p5)\n",
    "print(point_check)"
   ]
  }
 ],
 "metadata": {
  "kernelspec": {
   "display_name": "Python 3 (ipykernel)",
   "language": "python",
   "name": "python3"
  },
  "language_info": {
   "codemirror_mode": {
    "name": "ipython",
    "version": 3
   },
   "file_extension": ".py",
   "mimetype": "text/x-python",
   "name": "python",
   "nbconvert_exporter": "python",
   "pygments_lexer": "ipython3",
   "version": "3.10.0"
  }
 },
 "nbformat": 4,
 "nbformat_minor": 5
}
