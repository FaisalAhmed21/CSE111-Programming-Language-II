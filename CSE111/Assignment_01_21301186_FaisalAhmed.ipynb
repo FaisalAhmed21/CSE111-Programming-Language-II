{
  "cells": [
    {
      "cell_type": "code",
      "execution_count": null,
      "id": "a56bc226",
      "metadata": {
        "id": "a56bc226"
      },
      "outputs": [],
      "source": [
        "#Name: Faisal Ahmed\n",
        "#ID: 21301186\n",
        "#Section: 02"
      ]
    },
    {
      "cell_type": "code",
      "execution_count": 2,
      "id": "a5ae268e",
      "metadata": {
        "colab": {
          "base_uri": "https://localhost:8080/"
        },
        "id": "a5ae268e",
        "outputId": "00d56384-919f-486b-8439-16f9d036e641"
      },
      "outputs": [
        {
          "output_type": "stream",
          "name": "stdout",
          "text": [
            "SOLDier\n",
            "SOLDIER\n"
          ]
        }
      ],
      "source": [
        "#String\n",
        "#Task-1\n",
        "string = input()\n",
        "uppercase = \"ABCDEFGHIJKLMNOPQRSTUVWXYZ\"\n",
        "lowercase = \"abcdefghijklmnopqrstuvwxyz\"\n",
        "upper_count = 0\n",
        "lower_count = 0\n",
        "for i in string:\n",
        "    if i in uppercase:\n",
        "        upper_count = upper_count + 1\n",
        "    if i in lowercase:\n",
        "        lower_count = lower_count + 1\n",
        "if upper_count > lower_count:\n",
        "    new_string = string.upper()\n",
        "    print(new_string)\n",
        "else:\n",
        "    new_string = string.lower()\n",
        "    print(new_string)"
      ]
    },
    {
      "cell_type": "code",
      "execution_count": 3,
      "id": "b6b82053",
      "metadata": {
        "colab": {
          "base_uri": "https://localhost:8080/"
        },
        "id": "b6b82053",
        "outputId": "1631ad5f-495f-42ed-8b15-55f432f8df24"
      },
      "outputs": [
        {
          "output_type": "stream",
          "name": "stdout",
          "text": [
            "abc123\n",
            "MIXED\n"
          ]
        }
      ],
      "source": [
        "#Task-2\n",
        "string = input()\n",
        "numbers = \"0123456789\"\n",
        "num_count = 0\n",
        "words = \"abcdefghijklmnopqrstuvwxyzABCDEFGHIJKLMNOPQRSTUVWXYZ\"\n",
        "word_count = 0\n",
        "for i in string:\n",
        "    if i in words:\n",
        "        word_count = word_count + 1\n",
        "    if i in numbers:\n",
        "        num_count = num_count + 1\n",
        "if word_count == 0:\n",
        "    print(\"NUMBER\")\n",
        "elif num_count == 0:\n",
        "    print(\"WORD\")\n",
        "else:\n",
        "    print(\"MIXED\")"
      ]
    },
    {
      "cell_type": "code",
      "execution_count": 11,
      "id": "6712093f",
      "metadata": {
        "colab": {
          "base_uri": "https://localhost:8080/"
        },
        "id": "6712093f",
        "outputId": "71fb10f8-f7cf-43ad-8ae8-8fe605fa6724"
      },
      "outputs": [
        {
          "output_type": "stream",
          "name": "stdout",
          "text": [
            "baNgladEsh\n",
            "glad\n"
          ]
        }
      ],
      "source": [
        "#Task-3\n",
        "x = input()\n",
        "alphabets = \"ABCDEFGHIJKLMNOPQRSTUVWXYZ\"\n",
        "listt = []\n",
        "for i in range(len(x)):\n",
        "    if x[i] in alphabets:\n",
        "        listt.append(i)\n",
        "if listt[0] - listt[1] == -1:\n",
        "    print(\"BLANK\")\n",
        "else:\n",
        "    print(x[listt[0]+1:listt[1]])"
      ]
    },
    {
      "cell_type": "code",
      "execution_count": 15,
      "id": "47356dab",
      "metadata": {
        "colab": {
          "base_uri": "https://localhost:8080/"
        },
        "id": "47356dab",
        "outputId": "3d02b71a-6942-40b1-c580-8818b92a3495"
      },
      "outputs": [
        {
          "output_type": "stream",
          "name": "stdout",
          "text": [
            "The book is not too good !\n",
            "The book is not excellent !\n"
          ]
        }
      ],
      "source": [
        "#Task-4\n",
        "x = input()\n",
        "y = x.split(\" \")\n",
        "i1 = \"\"\n",
        "i2 = \"\"\n",
        "for i in range(len(y)):\n",
        "    if y[i] == \"too\":\n",
        "        i1 = i\n",
        "for i in range(len(y)):\n",
        "    if y[i] == \"good\":\n",
        "        i2 = i\n",
        "if i2>i1:\n",
        "    output = x.replace(\"too good\", \"excellent\")\n",
        "    print(output)\n",
        "else:\n",
        "    output = x\n",
        "    print(output)"
      ]
    },
    {
      "cell_type": "code",
      "execution_count": 16,
      "id": "8c30955e",
      "metadata": {
        "colab": {
          "base_uri": "https://localhost:8080/"
        },
        "id": "8c30955e",
        "outputId": "2a67d0f6-a18d-4886-b131-6d3773a8dca3"
      },
      "outputs": [
        {
          "output_type": "stream",
          "name": "stdout",
          "text": [
            "harry, hermionie\n",
            "hrrhr\n"
          ]
        }
      ],
      "source": [
        "#Task-5\n",
        "x = input().split(\", \")\n",
        "common1 = \"\"\n",
        "common2 = \"\"\n",
        "for i in x[0]:\n",
        "    for j in x[1]:\n",
        "        if i in j:\n",
        "            common1 = common1 + i\n",
        "            break\n",
        "for i in x[1]:\n",
        "    for j in x[0]:\n",
        "        if i == j:\n",
        "            common2 = common2 + i\n",
        "            break\n",
        "if len(common1) == 0 and len(common2) == 0:\n",
        "    print(\"Nothing in common.\")\n",
        "else:\n",
        "    print(common1 + common2)"
      ]
    },
    {
      "cell_type": "code",
      "execution_count": 17,
      "id": "d8826b44",
      "metadata": {
        "colab": {
          "base_uri": "https://localhost:8080/"
        },
        "id": "d8826b44",
        "outputId": "925ce37a-77e1-4c8f-93fe-2b0084b9b13a"
      },
      "outputs": [
        {
          "output_type": "stream",
          "name": "stdout",
          "text": [
            "OhMyBR@CU20\n",
            "OK\n"
          ]
        }
      ],
      "source": [
        "#Task-6\n",
        "x = input()\n",
        "lowercase = \"abcdefghijklmnopqrstuvwxyz\"\n",
        "uppercase = \"ABCDEFGHIJKLMNOPQRSTUVWXYZ\"\n",
        "special_case = \"_$#@\"\n",
        "numbers = \"0123456789\"\n",
        "lower = 0\n",
        "upper = 0\n",
        "special = 0\n",
        "num = 0\n",
        "for i in x:\n",
        "    if i in lowercase:\n",
        "        lower += 1\n",
        "    elif i in uppercase:\n",
        "        upper += 1\n",
        "    elif i in special_case:\n",
        "        special += 1\n",
        "    elif i in numbers:\n",
        "        num += 1\n",
        "listt = []\n",
        "if lower>=1 and upper>=1 and special>=1 and num>=1:\n",
        "    print(\"OK\")\n",
        "elif lower == 0:\n",
        "    listt.append(\"Lowercase character missing\")\n",
        "if upper == 0:\n",
        "    listt.append(\"Uppercase character missing\")\n",
        "if num == 0:\n",
        "    listt.append(\"Digit missing\")\n",
        "if special == 0:\n",
        "    listt.append(\"Special character missing\")\n",
        "for p in range(len(listt)):\n",
        "    if p == len(listt)-1:\n",
        "        print(listt[p])\n",
        "    else:\n",
        "        print(listt[p],end=\", \")"
      ]
    },
    {
      "cell_type": "code",
      "execution_count": 18,
      "id": "e79ffbe3",
      "metadata": {
        "colab": {
          "base_uri": "https://localhost:8080/"
        },
        "id": "e79ffbe3",
        "outputId": "ffcbd4d5-d124-4745-daf1-6118881017df"
      },
      "outputs": [
        {
          "output_type": "stream",
          "name": "stdout",
          "text": [
            "10\n",
            "20\n",
            "20\n",
            "30\n",
            "10\n",
            "50\n",
            "90\n",
            "STOP\n",
            "10 - 2 times\n",
            "20 - 2 times\n",
            "30 - 1 times\n",
            "50 - 1 times\n",
            "90 - 1 times\n"
          ]
        }
      ],
      "source": [
        "#List\n",
        "#Task-1\n",
        "listt = []\n",
        "while True:\n",
        "    x = input()\n",
        "    if x == \"STOP\":\n",
        "        break\n",
        "    else:\n",
        "        listt.append(int(x))\n",
        "new_list = []\n",
        "for i in listt:\n",
        "    y = listt.count(i)\n",
        "    a = str(i) + \" - \"+str(y)+ \" times\"\n",
        "    if a not in new_list:\n",
        "        new_list.append(a)\n",
        "for j in new_list:\n",
        "    print(j)\n",
        ""
      ]
    },
    {
      "cell_type": "code",
      "execution_count": 19,
      "id": "7d1e81fd",
      "metadata": {
        "colab": {
          "base_uri": "https://localhost:8080/"
        },
        "id": "7d1e81fd",
        "outputId": "22d7fdd1-1e0f-41fd-f57a-2ed359efe82d"
      },
      "outputs": [
        {
          "output_type": "stream",
          "name": "stdout",
          "text": [
            "4\n",
            "1 2 3\n",
            "4 5 6\n",
            "10 11 12\n",
            "7 8 9\n",
            "33\n",
            "[10, 11, 12]\n"
          ]
        }
      ],
      "source": [
        "#Task-2\n",
        "x = int(input())\n",
        "listt = []\n",
        "max_num = 0\n",
        "for i in range(x):\n",
        "    y = input().split(\" \")\n",
        "    listt.append(y)\n",
        "    summ = 0\n",
        "    for j in y:\n",
        "        summ += int(j)\n",
        "        if summ > max_num:\n",
        "            n = y\n",
        "            max_num = summ\n",
        "            ind = i\n",
        "print(max_num)\n",
        "for j in range(len(n)):\n",
        "    n[j] = int(n[j])\n",
        "print(n)\n",
        ""
      ]
    },
    {
      "cell_type": "code",
      "execution_count": 20,
      "id": "80103151",
      "metadata": {
        "colab": {
          "base_uri": "https://localhost:8080/"
        },
        "id": "80103151",
        "outputId": "40a0fd70-35f6-4964-e047-2ec777142a89"
      },
      "outputs": [
        {
          "output_type": "stream",
          "name": "stdout",
          "text": [
            "2 3 6\n",
            "3 4 5\n",
            "[6, 8, 10, 9, 12, 15, 18, 24, 30]\n"
          ]
        }
      ],
      "source": [
        "#Task-3\n",
        "x = input()\n",
        "x1 = x.split(\" \")\n",
        "y = input()\n",
        "y1 = y.split(\" \")\n",
        "listt = []\n",
        "for i in x1:\n",
        "    for j in y1:\n",
        "        listt.append(int(i) * int(j))\n",
        "print(listt)"
      ]
    },
    {
      "cell_type": "code",
      "execution_count": 21,
      "id": "856d8e53",
      "metadata": {
        "colab": {
          "base_uri": "https://localhost:8080/"
        },
        "id": "856d8e53",
        "outputId": "ff5d3756-c8e4-4256-d91c-526cee225521"
      },
      "outputs": [
        {
          "output_type": "stream",
          "name": "stdout",
          "text": [
            "1 4 2 3\n",
            "2 1 4 6 10\n",
            "1 4 2 -1 6\n",
            "STOP\n",
            "UB Jumper\n",
            "UB Jumper\n",
            "Not UB Jumper\n"
          ]
        }
      ],
      "source": [
        "#Task-4\n",
        "def ABOSULTUE(x,y):\n",
        "    if x < y:\n",
        "        return int(y)-int(x)\n",
        "    else:\n",
        "        return int(x)-int(y)\n",
        "value=[]\n",
        "Flag = True\n",
        "while Flag:\n",
        "    string = input()\n",
        "    if string == 'STOP':\n",
        "        Flag = False\n",
        "    else:\n",
        "        value.append(string.split(' '))\n",
        "for j in range(len(value)):\n",
        "    jumper = False\n",
        "    for k in range(len(value[j])-1):\n",
        "        if ABOSULTUE(value[j][k],value[j][k+1])<len(value[j]):\n",
        "            jumper = True\n",
        "        else:\n",
        "            jumper=False\n",
        "    if jumper:\n",
        "        print('UB Jumper')\n",
        "    else:\n",
        "        print('Not UB Jumper')"
      ]
    },
    {
      "cell_type": "code",
      "execution_count": 22,
      "id": "b251b3d4",
      "metadata": {
        "colab": {
          "base_uri": "https://localhost:8080/"
        },
        "id": "b251b3d4",
        "outputId": "81481ed1-f5f9-445e-a87f-e1a799f5c2b1"
      },
      "outputs": [
        {
          "output_type": "stream",
          "name": "stdout",
          "text": [
            "Bracu1234\n",
            "acruB1324\n"
          ]
        }
      ],
      "source": [
        "#Task-5\n",
        "x = input()\n",
        "lowercase = \"abcdefghijklmnopqrstuvwxyz\"\n",
        "uppercase = \"ABCDEFGHIJKLMNOPQRSTUVWXYZ\"\n",
        "digits = \"0123456789\"\n",
        "lower_case = \"\"\n",
        "upper_case = \"\"\n",
        "odd = \"\"\n",
        "even = \"\"\n",
        "for i in x:\n",
        "    if i in lowercase:\n",
        "        lower_case += i\n",
        "    elif i in uppercase:\n",
        "        upper_case += i\n",
        "    elif i in digits:\n",
        "        if int(i)%2 == 0:\n",
        "            even += i\n",
        "        else:\n",
        "            odd += i\n",
        "listt = sorted(lower_case) + sorted(upper_case) + sorted(odd)+ sorted(even)\n",
        "output = \"\"\n",
        "for j in listt:\n",
        "    output += j\n",
        "print(output)"
      ]
    },
    {
      "cell_type": "code",
      "execution_count": 23,
      "id": "6f0c6af0",
      "metadata": {
        "colab": {
          "base_uri": "https://localhost:8080/"
        },
        "id": "6f0c6af0",
        "outputId": "98da9e73-cd75-4611-b843-cf2ebcf2fdff"
      },
      "outputs": [
        {
          "output_type": "stream",
          "name": "stdout",
          "text": [
            "6 5\n",
            "0 0 0 0 0 0\n",
            "2\n"
          ]
        }
      ],
      "source": [
        "#Task-6\n",
        "input1 = input().split(\" \")\n",
        "total_player = int(input1[0])\n",
        "round_numbers = int(input1[1])\n",
        "n = input().split(\" \")\n",
        "listt = []\n",
        "\n",
        "for i in n:\n",
        "    if int(i) + round_numbers <= 5:\n",
        "        listt.append(i)\n",
        "\n",
        "team_numbers = len(listt)//3\n",
        "print(team_numbers)"
      ]
    },
    {
      "cell_type": "code",
      "execution_count": 2,
      "id": "a3d275d6",
      "metadata": {
        "colab": {
          "base_uri": "https://localhost:8080/"
        },
        "id": "a3d275d6",
        "outputId": "f50a3fcf-a5f8-4561-c03c-db27e83bcac0"
      },
      "outputs": [
        {
          "output_type": "stream",
          "name": "stdout",
          "text": [
            "Enter first dictionary: a: 100, b: 100, c: 200, d: 300\n",
            "Enter second dictionary: a: 300, b: 200, d: 400, e: 200\n",
            "{'a': 400, 'b': 300, 'c': 200, 'd': 700, 'e': 200}\n",
            "Values: (200, 300, 400, 700)\n"
          ]
        }
      ],
      "source": [
        "#Dictionary and tuple\n",
        "#Task-1\n",
        "input1 = input(\"Enter first dictionary: \")\n",
        "input2 = input(\"Enter second dictionary: \")\n",
        "\n",
        "dict1 = {}\n",
        "for item in input1.split(\", \"):\n",
        "    key, value = item.split(\": \")\n",
        "    dict1[key] = int(value)\n",
        "\n",
        "\n",
        "dict2 = {}\n",
        "for item in input2.split(\", \"):\n",
        "    key, value = item.split(\": \")\n",
        "    dict2[key] = int(value)\n",
        "\n",
        "dic = {}\n",
        "for i, j in dict1.items():\n",
        "    if i in dict2.keys():\n",
        "        dic[i] = j + dict2[i]\n",
        "    else:\n",
        "        dic[i] = j\n",
        "\n",
        "for k, l in dict2.items():\n",
        "    if k not in dic:\n",
        "        dic[k] = l\n",
        "\n",
        "val = []\n",
        "for x in dic.values():\n",
        "    if x not in val:\n",
        "        val.append(x)\n",
        "val.sort()\n",
        "\n",
        "print(dic)\n",
        "print(\"Values:\", tuple(val))\n"
      ]
    },
    {
      "cell_type": "code",
      "execution_count": 3,
      "id": "8a05110c",
      "metadata": {
        "colab": {
          "base_uri": "https://localhost:8080/"
        },
        "id": "8a05110c",
        "outputId": "2db586c7-12b8-4efa-e916-6aa60f0f29bb"
      },
      "outputs": [
        {
          "output_type": "stream",
          "name": "stdout",
          "text": [
            "10\n",
            "20\n",
            "20\n",
            "30\n",
            "10\n",
            "50\n",
            "90\n",
            "STOP\n",
            "10  -  2  times\n",
            "20  -  2  times\n",
            "30  -  1  times\n",
            "50  -  1  times\n",
            "90  -  1  times\n"
          ]
        }
      ],
      "source": [
        "#Task-2\n",
        "dic = {}\n",
        "while True:\n",
        "    x = input()\n",
        "    if x == \"STOP\":\n",
        "        break\n",
        "    elif x in dic.keys():\n",
        "        dic[x] = dic[x] +1\n",
        "    else:\n",
        "        dic[x] = 1\n",
        "for i,j in dic.items():\n",
        "    print(i,\" - \",j,\" times\")"
      ]
    },
    {
      "cell_type": "code",
      "execution_count": null,
      "id": "59c388ac",
      "metadata": {
        "id": "59c388ac",
        "outputId": "cedddde4-4034-41e1-b48b-2d697088f8d6"
      },
      "outputs": [
        {
          "name": "stdout",
          "output_type": "stream",
          "text": [
            "key1: value1, key2: value2, key3: value1\n",
            "{'key1': 'value1'}\n",
            "{'key1': 'value1', 'key2': 'value2'}\n",
            "{'key1': 'value1', 'key2': 'value2', 'key3': 'value1'}\n",
            "{'value1': ['key1', 'key3'], 'value2': ['key2']}\n"
          ]
        }
      ],
      "source": [
        "#Task-3\n",
        "x = input()\n",
        "x1 = x.split(\", \")\n",
        "dictt = {}\n",
        "for i in x1:\n",
        "    new_x = i.split(\": \")\n",
        "    dictt[new_x[0]] = new_x[1]\n",
        "    print(dictt) #dictionary as input\n",
        "dict2 = {}\n",
        "for i,j in dictt.items():\n",
        "    if j not in dict2.keys():\n",
        "        dict2[j] = [i]\n",
        "    else:\n",
        "        dict2[j].append(i)\n",
        "print(dict2)"
      ]
    },
    {
      "cell_type": "code",
      "execution_count": 4,
      "id": "6c71e3f3",
      "metadata": {
        "colab": {
          "base_uri": "https://localhost:8080/"
        },
        "id": "6c71e3f3",
        "outputId": "b8c103c8-5ab8-4d75-db97-08f48bb9f161"
      },
      "outputs": [
        {
          "output_type": "stream",
          "name": "stdout",
          "text": [
            "evil\n",
            "live\n",
            "Those strings are anagrams\n"
          ]
        }
      ],
      "source": [
        "#Task-4\n",
        "input1 = input()\n",
        "input2 = input()\n",
        "dict1 = {}\n",
        "dict2 = {}\n",
        "for i in input1:\n",
        "    if i not in dict1:\n",
        "        dict1[i] = 1\n",
        "    else:\n",
        "        dict1[i]=(dict1[i]+1)\n",
        "for j in input2:\n",
        "    if j not in dict2:\n",
        "        dict2[j] = 1\n",
        "    else:\n",
        "        dict2[j]=(dict2[j]+1)\n",
        "if dict1 == dict2:\n",
        "    print('Those strings are anagrams')\n",
        "else:\n",
        "    print('Those strings are not anagrams')"
      ]
    },
    {
      "cell_type": "code",
      "execution_count": null,
      "id": "14768142",
      "metadata": {
        "id": "14768142",
        "outputId": "3aff2aca-996d-4b50-9ec4-9e629d6a1bb8"
      },
      "outputs": [
        {
          "name": "stdout",
          "output_type": "stream",
          "text": [
            "Hello\n",
            "4433555555666"
          ]
        }
      ],
      "source": [
        "#Task-5\n",
        "dic = {\"1\": \".,?!:\", \"2\": \"ABC\", \"3\": \"DEF\", \"4\": \"GHI\", \"5\": \"JKL\", \"6\": \"MNO\", \"7\": \"PQRS\", \"8\": \"TUV\", \"9\": \"WXYZ\", \"0\": \" \"}\n",
        "string = input().upper()\n",
        "for x in string:\n",
        "    for i,j in dic.items():\n",
        "        if x in j:\n",
        "            p = j.find(x)\n",
        "            for y in range(p+1):\n",
        "                print(i,end=\"\")\n",
        "\n",
        ""
      ]
    }
  ],
  "metadata": {
    "kernelspec": {
      "display_name": "Python 3 (ipykernel)",
      "language": "python",
      "name": "python3"
    },
    "language_info": {
      "codemirror_mode": {
        "name": "ipython",
        "version": 3
      },
      "file_extension": ".py",
      "mimetype": "text/x-python",
      "name": "python",
      "nbconvert_exporter": "python",
      "pygments_lexer": "ipython3",
      "version": "3.10.0"
    },
    "colab": {
      "provenance": []
    }
  },
  "nbformat": 4,
  "nbformat_minor": 5
}